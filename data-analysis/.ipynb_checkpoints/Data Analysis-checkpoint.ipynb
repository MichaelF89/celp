{
 "cells": [
  {
   "cell_type": "markdown",
   "metadata": {},
   "source": [
    "# Analyze Data\n",
    "\n",
    "Korte data analyse voor het verkenne van de yelp data voor het verslag van week 1."
   ]
  },
  {
   "cell_type": "code",
   "execution_count": 1,
   "metadata": {},
   "outputs": [],
   "source": [
    "# Imports\n",
    "import pandas as pd\n",
    "import os\n",
    "import json\n",
    "import random\n",
    "from IPython.display import display\n",
    "from collections import defaultdict"
   ]
  },
  {
   "cell_type": "code",
   "execution_count": 2,
   "metadata": {},
   "outputs": [],
   "source": [
    "\"\"\"\n",
    "This file loads the data from the data directory and shows you how.\n",
    "Feel free to change the contents of this file!\n",
    "Do ensure these functions remain functional:\n",
    "    - get_business(city, business_id)\n",
    "    - get_reviews(city, business_id=None, user_id=None, n=10)\n",
    "    - get_user(username)\n",
    "\"\"\"\n",
    "\n",
    "import os\n",
    "import json\n",
    "import random\n",
    "\n",
    "DATA_DIR = \"../data\"\n",
    "\n",
    "\n",
    "def load_cities():\n",
    "    \"\"\"\n",
    "    Finds all cities (all directory names) in ./data\n",
    "    Returns a list of city names\n",
    "    \"\"\"\n",
    "    return os.listdir(DATA_DIR)\n",
    "\n",
    "\n",
    "def load(cities, data_filename):\n",
    "    \"\"\"\n",
    "    Given a list of city names,\n",
    "        for each city extract all data from ./data/<city>/<data_filename>.json\n",
    "    Returns a dictionary of the form:\n",
    "        {\n",
    "            <city1>: [<entry1>, <entry2>, ...],\n",
    "            <city2>: [<entry1>, <entry2>, ...],\n",
    "            ...\n",
    "        }\n",
    "    \"\"\"\n",
    "    data = {}\n",
    "    for city in cities:\n",
    "        city_data = []\n",
    "        with open(f\"{DATA_DIR}/{city}/{data_filename}.json\", \"r\") as f:\n",
    "            for line in f:\n",
    "                city_data.append(json.loads(line))\n",
    "        data[city] = city_data\n",
    "    return data\n",
    "\n",
    "\n",
    "def get_business(city, business_id):\n",
    "    \"\"\"\n",
    "    Given a city name and a business id, return that business's data.\n",
    "    Returns a dictionary of the form:\n",
    "        {\n",
    "            name:str,\n",
    "            business_id:str,\n",
    "            stars:str,\n",
    "            ...\n",
    "        }\n",
    "    \"\"\"\n",
    "    for business in BUSINESSES[city]:\n",
    "        if business[\"business_id\"] == business_id:\n",
    "            return business\n",
    "    raise IndexError(f\"invalid business_id {business_id}\")\n",
    "\n",
    "\n",
    "def get_reviews(city, business_id=None, user_id=None, n=10):\n",
    "    \"\"\"\n",
    "    Given a city name and optionally a business id and/or auser id,\n",
    "    return n reviews for that business/user combo in that city.\n",
    "    Returns a dictionary of the form:\n",
    "        {\n",
    "            text:str,\n",
    "            stars:str,\n",
    "            ...\n",
    "        }\n",
    "    \"\"\"\n",
    "    def should_keep(review):\n",
    "        if business_id and review[\"business_id\"] != business_id:\n",
    "            return False\n",
    "        if user_id and review[\"user_id\"] != user_id:\n",
    "            return False\n",
    "        return True\n",
    "\n",
    "    reviews = REVIEWS[city]\n",
    "    reviews = [review for review in reviews if should_keep(review)]\n",
    "    return random.sample(reviews, min(n, len(reviews)))\n",
    "\n",
    "\n",
    "def get_user(username):\n",
    "    \"\"\"\n",
    "    Get a user by its username\n",
    "    Returns a dictionary of the form:\n",
    "        {\n",
    "            user_id:str,\n",
    "            name:str,\n",
    "            ...\n",
    "        }\n",
    "    \"\"\"\n",
    "    for city, users in USERS.items():\n",
    "        for user in users:\n",
    "            if user[\"name\"] == username:\n",
    "                return user\n",
    "    raise IndexError(f\"invalid username {username}\")\n",
    "\n",
    "\n",
    "CITIES = load_cities()\n",
    "USERS = load(CITIES, \"user\")\n",
    "BUSINESSES = load(CITIES, \"business\")\n",
    "REVIEWS = load(CITIES, \"review\")\n",
    "TIPS = load(CITIES, \"tip\")\n",
    "CHECKINS = load(CITIES, \"checkin\")\n"
   ]
  },
  {
   "cell_type": "code",
   "execution_count": 3,
   "metadata": {},
   "outputs": [
    {
     "name": "stdout",
     "output_type": "stream",
     "text": [
      "43.855821985388744 -79.02810217534036\n"
     ]
    }
   ],
   "source": [
    "business = pd.DataFrame(BUSINESSES['ajax'])\n",
    "business = business[business['is_open'] == 1 & business['categories'].notna()]\n",
    "business['categories'] = business['categories'].str.split(', ')\n",
    "print(business.latitude.mean(), business.longitude.mean())"
   ]
  },
  {
   "cell_type": "code",
   "execution_count": 4,
   "metadata": {},
   "outputs": [
    {
     "name": "stdout",
     "output_type": "stream",
     "text": [
      "defaultdict(<class 'dict'>, {'ajax': {'long': -79.028085773309, 'lat': 43.85644965146598}, 'sun city': {'long': -112.2817297142212, 'lat': 33.62240299446563}, 'westlake': {'long': -81.92984784354863, 'lat': 41.45998055742982}})\n"
     ]
    }
   ],
   "source": [
    "citycoord = defaultdict(dict)\n",
    "\n",
    "for city in BUSINESSES:\n",
    "    df = pd.DataFrame(BUSINESSES[city])\n",
    "    citycoord[city]['long'] = df['longitude'].mean()\n",
    "    citycoord[city]['lat'] = df['latitude'].mean()\n",
    "\n",
    "print (citycoord)"
   ]
  },
  {
   "cell_type": "code",
   "execution_count": 8,
   "metadata": {},
   "outputs": [],
   "source": [
    "city_coord_df = pd.DataFrame(citycoord).T"
   ]
  },
  {
   "cell_type": "code",
   "execution_count": null,
   "metadata": {},
   "outputs": [],
   "source": [
    "def make_region(city, threshold=50, ):\n",
    "    "
   ]
  },
  {
   "cell_type": "markdown",
   "metadata": {},
   "source": [
    "DATA_DIR veranderen naar het pad waar de yelp-data staat."
   ]
  },
  {
   "cell_type": "code",
   "execution_count": 6,
   "metadata": {},
   "outputs": [],
   "source": [
    "# Directory waar de yelp-data in staat\n",
    "DATA_DIR = \"../yelp-all\""
   ]
  },
  {
   "cell_type": "markdown",
   "metadata": {},
   "source": [
    "### Bekijken van opbouw Datafiles\n",
    "Neem hier als voorbeeld de stad Agincourt (lekker klein)."
   ]
  },
  {
   "cell_type": "code",
   "execution_count": 7,
   "metadata": {},
   "outputs": [
    {
     "name": "stdout",
     "output_type": "stream",
     "text": [
      "business.json\n"
     ]
    },
    {
     "ename": "ValueError",
     "evalue": "Expected object or value",
     "output_type": "error",
     "traceback": [
      "\u001b[1;31m---------------------------------------------------------------------------\u001b[0m",
      "\u001b[1;31mValueError\u001b[0m                                Traceback (most recent call last)",
      "\u001b[1;32m<ipython-input-7-8f08f6d6e637>\u001b[0m in \u001b[0;36m<module>\u001b[1;34m\u001b[0m\n\u001b[0;32m      2\u001b[0m \u001b[1;33m\u001b[0m\u001b[0m\n\u001b[0;32m      3\u001b[0m \u001b[0mprint\u001b[0m\u001b[1;33m(\u001b[0m\u001b[1;34m'business.json'\u001b[0m\u001b[1;33m)\u001b[0m\u001b[1;33m\u001b[0m\u001b[1;33m\u001b[0m\u001b[0m\n\u001b[1;32m----> 4\u001b[1;33m \u001b[0mdisplay\u001b[0m\u001b[1;33m(\u001b[0m\u001b[0mpd\u001b[0m\u001b[1;33m.\u001b[0m\u001b[0mread_json\u001b[0m\u001b[1;33m(\u001b[0m\u001b[0mDATA_DIR\u001b[0m\u001b[1;33m+\u001b[0m\u001b[1;34m'/'\u001b[0m\u001b[1;33m+\u001b[0m\u001b[0mCITY\u001b[0m\u001b[1;33m+\u001b[0m\u001b[1;34m'/business.json'\u001b[0m\u001b[1;33m,\u001b[0m \u001b[0mlines\u001b[0m\u001b[1;33m=\u001b[0m\u001b[1;32mTrue\u001b[0m\u001b[1;33m)\u001b[0m\u001b[1;33m.\u001b[0m\u001b[0mhead\u001b[0m\u001b[1;33m(\u001b[0m\u001b[1;33m)\u001b[0m\u001b[1;33m)\u001b[0m\u001b[1;33m\u001b[0m\u001b[1;33m\u001b[0m\u001b[0m\n\u001b[0m\u001b[0;32m      5\u001b[0m \u001b[1;33m\u001b[0m\u001b[0m\n\u001b[0;32m      6\u001b[0m \u001b[0mprint\u001b[0m\u001b[1;33m(\u001b[0m\u001b[1;34m'\\n\\ncheckin.json'\u001b[0m\u001b[1;33m)\u001b[0m\u001b[1;33m\u001b[0m\u001b[1;33m\u001b[0m\u001b[0m\n",
      "\u001b[1;32m~\\Anaconda3\\lib\\site-packages\\pandas\\io\\json\\json.py\u001b[0m in \u001b[0;36mread_json\u001b[1;34m(path_or_buf, orient, typ, dtype, convert_axes, convert_dates, keep_default_dates, numpy, precise_float, date_unit, encoding, lines, chunksize, compression)\u001b[0m\n\u001b[0;32m    425\u001b[0m         \u001b[1;32mreturn\u001b[0m \u001b[0mjson_reader\u001b[0m\u001b[1;33m\u001b[0m\u001b[1;33m\u001b[0m\u001b[0m\n\u001b[0;32m    426\u001b[0m \u001b[1;33m\u001b[0m\u001b[0m\n\u001b[1;32m--> 427\u001b[1;33m     \u001b[0mresult\u001b[0m \u001b[1;33m=\u001b[0m \u001b[0mjson_reader\u001b[0m\u001b[1;33m.\u001b[0m\u001b[0mread\u001b[0m\u001b[1;33m(\u001b[0m\u001b[1;33m)\u001b[0m\u001b[1;33m\u001b[0m\u001b[1;33m\u001b[0m\u001b[0m\n\u001b[0m\u001b[0;32m    428\u001b[0m     \u001b[1;32mif\u001b[0m \u001b[0mshould_close\u001b[0m\u001b[1;33m:\u001b[0m\u001b[1;33m\u001b[0m\u001b[1;33m\u001b[0m\u001b[0m\n\u001b[0;32m    429\u001b[0m         \u001b[1;32mtry\u001b[0m\u001b[1;33m:\u001b[0m\u001b[1;33m\u001b[0m\u001b[1;33m\u001b[0m\u001b[0m\n",
      "\u001b[1;32m~\\Anaconda3\\lib\\site-packages\\pandas\\io\\json\\json.py\u001b[0m in \u001b[0;36mread\u001b[1;34m(self)\u001b[0m\n\u001b[0;32m    532\u001b[0m             \u001b[0mdata\u001b[0m \u001b[1;33m=\u001b[0m \u001b[0mto_str\u001b[0m\u001b[1;33m(\u001b[0m\u001b[0mself\u001b[0m\u001b[1;33m.\u001b[0m\u001b[0mdata\u001b[0m\u001b[1;33m)\u001b[0m\u001b[1;33m\u001b[0m\u001b[1;33m\u001b[0m\u001b[0m\n\u001b[0;32m    533\u001b[0m             obj = self._get_object_parser(\n\u001b[1;32m--> 534\u001b[1;33m                 \u001b[0mself\u001b[0m\u001b[1;33m.\u001b[0m\u001b[0m_combine_lines\u001b[0m\u001b[1;33m(\u001b[0m\u001b[0mdata\u001b[0m\u001b[1;33m.\u001b[0m\u001b[0msplit\u001b[0m\u001b[1;33m(\u001b[0m\u001b[1;34m'\\n'\u001b[0m\u001b[1;33m)\u001b[0m\u001b[1;33m)\u001b[0m\u001b[1;33m\u001b[0m\u001b[1;33m\u001b[0m\u001b[0m\n\u001b[0m\u001b[0;32m    535\u001b[0m             )\n\u001b[0;32m    536\u001b[0m         \u001b[1;32melse\u001b[0m\u001b[1;33m:\u001b[0m\u001b[1;33m\u001b[0m\u001b[1;33m\u001b[0m\u001b[0m\n",
      "\u001b[1;32m~\\Anaconda3\\lib\\site-packages\\pandas\\io\\json\\json.py\u001b[0m in \u001b[0;36m_get_object_parser\u001b[1;34m(self, json)\u001b[0m\n\u001b[0;32m    554\u001b[0m         \u001b[0mobj\u001b[0m \u001b[1;33m=\u001b[0m \u001b[1;32mNone\u001b[0m\u001b[1;33m\u001b[0m\u001b[1;33m\u001b[0m\u001b[0m\n\u001b[0;32m    555\u001b[0m         \u001b[1;32mif\u001b[0m \u001b[0mtyp\u001b[0m \u001b[1;33m==\u001b[0m \u001b[1;34m'frame'\u001b[0m\u001b[1;33m:\u001b[0m\u001b[1;33m\u001b[0m\u001b[1;33m\u001b[0m\u001b[0m\n\u001b[1;32m--> 556\u001b[1;33m             \u001b[0mobj\u001b[0m \u001b[1;33m=\u001b[0m \u001b[0mFrameParser\u001b[0m\u001b[1;33m(\u001b[0m\u001b[0mjson\u001b[0m\u001b[1;33m,\u001b[0m \u001b[1;33m**\u001b[0m\u001b[0mkwargs\u001b[0m\u001b[1;33m)\u001b[0m\u001b[1;33m.\u001b[0m\u001b[0mparse\u001b[0m\u001b[1;33m(\u001b[0m\u001b[1;33m)\u001b[0m\u001b[1;33m\u001b[0m\u001b[1;33m\u001b[0m\u001b[0m\n\u001b[0m\u001b[0;32m    557\u001b[0m \u001b[1;33m\u001b[0m\u001b[0m\n\u001b[0;32m    558\u001b[0m         \u001b[1;32mif\u001b[0m \u001b[0mtyp\u001b[0m \u001b[1;33m==\u001b[0m \u001b[1;34m'series'\u001b[0m \u001b[1;32mor\u001b[0m \u001b[0mobj\u001b[0m \u001b[1;32mis\u001b[0m \u001b[1;32mNone\u001b[0m\u001b[1;33m:\u001b[0m\u001b[1;33m\u001b[0m\u001b[1;33m\u001b[0m\u001b[0m\n",
      "\u001b[1;32m~\\Anaconda3\\lib\\site-packages\\pandas\\io\\json\\json.py\u001b[0m in \u001b[0;36mparse\u001b[1;34m(self)\u001b[0m\n\u001b[0;32m    650\u001b[0m \u001b[1;33m\u001b[0m\u001b[0m\n\u001b[0;32m    651\u001b[0m         \u001b[1;32melse\u001b[0m\u001b[1;33m:\u001b[0m\u001b[1;33m\u001b[0m\u001b[1;33m\u001b[0m\u001b[0m\n\u001b[1;32m--> 652\u001b[1;33m             \u001b[0mself\u001b[0m\u001b[1;33m.\u001b[0m\u001b[0m_parse_no_numpy\u001b[0m\u001b[1;33m(\u001b[0m\u001b[1;33m)\u001b[0m\u001b[1;33m\u001b[0m\u001b[1;33m\u001b[0m\u001b[0m\n\u001b[0m\u001b[0;32m    653\u001b[0m \u001b[1;33m\u001b[0m\u001b[0m\n\u001b[0;32m    654\u001b[0m         \u001b[1;32mif\u001b[0m \u001b[0mself\u001b[0m\u001b[1;33m.\u001b[0m\u001b[0mobj\u001b[0m \u001b[1;32mis\u001b[0m \u001b[1;32mNone\u001b[0m\u001b[1;33m:\u001b[0m\u001b[1;33m\u001b[0m\u001b[1;33m\u001b[0m\u001b[0m\n",
      "\u001b[1;32m~\\Anaconda3\\lib\\site-packages\\pandas\\io\\json\\json.py\u001b[0m in \u001b[0;36m_parse_no_numpy\u001b[1;34m(self)\u001b[0m\n\u001b[0;32m    869\u001b[0m         \u001b[1;32mif\u001b[0m \u001b[0morient\u001b[0m \u001b[1;33m==\u001b[0m \u001b[1;34m\"columns\"\u001b[0m\u001b[1;33m:\u001b[0m\u001b[1;33m\u001b[0m\u001b[1;33m\u001b[0m\u001b[0m\n\u001b[0;32m    870\u001b[0m             self.obj = DataFrame(\n\u001b[1;32m--> 871\u001b[1;33m                 loads(json, precise_float=self.precise_float), dtype=None)\n\u001b[0m\u001b[0;32m    872\u001b[0m         \u001b[1;32melif\u001b[0m \u001b[0morient\u001b[0m \u001b[1;33m==\u001b[0m \u001b[1;34m\"split\"\u001b[0m\u001b[1;33m:\u001b[0m\u001b[1;33m\u001b[0m\u001b[1;33m\u001b[0m\u001b[0m\n\u001b[0;32m    873\u001b[0m             decoded = {str(k): v for k, v in compat.iteritems(\n",
      "\u001b[1;31mValueError\u001b[0m: Expected object or value"
     ]
    }
   ],
   "source": [
    "CITY = 'agincourt'\n",
    "\n",
    "print('business.json')\n",
    "display(pd.read_json(DATA_DIR+'/'+CITY+'/business.json', lines=True).head())\n",
    "\n",
    "print('\\n\\ncheckin.json')\n",
    "display(pd.read_json(DATA_DIR+'/'+CITY+'/checkin.json', lines=True).head())\n",
    "\n",
    "print('\\n\\nreview.json')\n",
    "display(pd.read_json(DATA_DIR+'/'+CITY+'/review.json', lines=True).head())\n",
    "\n",
    "print('\\n\\ntip.json')\n",
    "display(pd.read_json(DATA_DIR+'/'+CITY+'/tip.json', lines=True).head())\n",
    "\n",
    "print('\\n\\nuser.json')\n",
    "display(pd.read_json(DATA_DIR+'/'+CITY+'/user.json', lines=True).head())"
   ]
  },
  {
   "cell_type": "markdown",
   "metadata": {},
   "source": [
    "### Kopie van functies/variabelen uit data.py bestand."
   ]
  },
  {
   "cell_type": "code",
   "execution_count": null,
   "metadata": {},
   "outputs": [],
   "source": [
    "# Kopie van data.py-bestand van het project\n",
    "\"\"\"\n",
    "This file loads the data from the data directory and shows you how.\n",
    "Feel free to change the contents of this file!\n",
    "Do ensure these functions remain functional:\n",
    "    - get_business(city, business_id)\n",
    "    - get_reviews(city, business_id=None, user_id=None, n=10)\n",
    "    - get_user(username)\n",
    "\"\"\"\n",
    "\n",
    "def load_cities():\n",
    "    \"\"\"\n",
    "    Finds all cities (all directory names) in ./data\n",
    "    Returns a list of city names\n",
    "    \"\"\"\n",
    "    return os.listdir(DATA_DIR)\n",
    "\n",
    "\n",
    "def load(cities, data_filename):\n",
    "    \"\"\"\n",
    "    Given a list of city names,\n",
    "        for each city extract all data from ./data/<city>/<data_filename>.json\n",
    "    Returns a dictionary of the form:\n",
    "        {\n",
    "            <city1>: [<entry1>, <entry2>, ...],\n",
    "            <city2>: [<entry1>, <entry2>, ...],\n",
    "            ...\n",
    "        }\n",
    "    \"\"\"\n",
    "    data = {}\n",
    "    for city in cities:\n",
    "        city_data = []\n",
    "        with open(f\"{DATA_DIR}/{city}/{data_filename}.json\", \"r\") as f:\n",
    "            for line in f:\n",
    "                city_data.append(json.loads(line))\n",
    "        data[city] = city_data\n",
    "    return data\n",
    "\n",
    "\n",
    "def get_business(city, business_id):\n",
    "    \"\"\"\n",
    "    Given a city name and a business id, return that business's data.\n",
    "    Returns a dictionary of the form:\n",
    "        {\n",
    "            name:str,\n",
    "            business_id:str,\n",
    "            stars:str,\n",
    "            ...\n",
    "        }\n",
    "    \"\"\"\n",
    "    for business in BUSINESSES[city]:\n",
    "        if business[\"business_id\"] == business_id:\n",
    "            return business\n",
    "    raise IndexError(f\"invalid business_id {business_id}\")\n",
    "\n",
    "\n",
    "def get_reviews(city, business_id=None, user_id=None, n=10):\n",
    "    \"\"\"\n",
    "    Given a city name and optionally a business id and/or auser id,\n",
    "    return n reviews for that business/user combo in that city.\n",
    "    Returns a dictionary of the form:\n",
    "        {\n",
    "            text:str,\n",
    "            stars:str,\n",
    "            ...\n",
    "        }\n",
    "    \"\"\"\n",
    "    def should_keep(review):\n",
    "        if business_id and review[\"business_id\"] != business_id:\n",
    "            return False\n",
    "        if user_id and review[\"user_id\"] != user_id:\n",
    "            return False\n",
    "        return True\n",
    "\n",
    "    reviews = REVIEWS[city]\n",
    "    reviews = [review for review in reviews if should_keep(review)]\n",
    "    return random.sample(reviews, min(n, len(reviews)))\n",
    "\n",
    "\n",
    "def get_user(username):\n",
    "    \"\"\"\n",
    "    Get a user by its username\n",
    "    Returns a dictionary of the form:\n",
    "        {\n",
    "            user_id:str,\n",
    "            name:str,\n",
    "            ...\n",
    "        }\n",
    "    \"\"\"\n",
    "    for city, users in USERS.items():\n",
    "        for user in users:\n",
    "            if user[\"name\"] == username:\n",
    "                return user\n",
    "    raise IndexError(f\"invalid username {username}\")\n",
    "\n",
    "\n",
    "CITIES = load_cities()\n",
    "USERS = load(CITIES, \"user\")\n",
    "#BUSINESSES = load(CITIES, \"business\")\n",
    "#REVIEWS = load(CITIES, \"review\")\n",
    "#TIPS = load(CITIES, \"tip\")\n",
    "#CHECKINS = load(CITIES, \"checkin\")"
   ]
  },
  {
   "cell_type": "markdown",
   "metadata": {},
   "source": [
    "BUSINESSES, REVIEWS, TIPS en CHECKINS staan gecomment omdat deze naar mijn mening (nog) niet nodig zijn in deze analyse en het flink wat werkgeheugen en tijd scheelt. "
   ]
  },
  {
   "cell_type": "markdown",
   "metadata": {},
   "source": [
    "all_users is een DataFrame die enkel de review count van elke gebruiker bevat."
   ]
  },
  {
   "cell_type": "code",
   "execution_count": null,
   "metadata": {},
   "outputs": [],
   "source": [
    "all_users = pd.DataFrame()\n",
    "for city in CITIES:\n",
    "    all_users = pd.concat([all_users, pd.DataFrame(USERS[city])['review_count']])"
   ]
  },
  {
   "cell_type": "markdown",
   "metadata": {},
   "source": [
    "### Top 10 van gebruikers met meeste reviews."
   ]
  },
  {
   "cell_type": "code",
   "execution_count": null,
   "metadata": {},
   "outputs": [],
   "source": [
    "all_users.sort_values(0, ascending=False).head(10)"
   ]
  },
  {
   "cell_type": "markdown",
   "metadata": {},
   "source": [
    "### Grafiek die aantal reviews per gebruikers laat zien\n",
    "Dit moet in logy-schaal anders is het niet goed zichtbaar vanwege de 'longtail'"
   ]
  },
  {
   "cell_type": "code",
   "execution_count": null,
   "metadata": {},
   "outputs": [],
   "source": [
    "display(all_users[0].sort_values(ascending=False).plot(use_index=False, logy=True, legend=False))"
   ]
  },
  {
   "cell_type": "markdown",
   "metadata": {},
   "source": [
    "### Histogram van het aantal reviews per gebruiker\n",
    "\n",
    "Deze is ook op een logy-schaal vanwege het reusachtige aantal gebruikers met relatief weinig reviews (meer dan 1 miljoen)"
   ]
  },
  {
   "cell_type": "code",
   "execution_count": null,
   "metadata": {},
   "outputs": [],
   "source": [
    "display(all_users.plot.hist(0, logy=True, bins=10, legend=False))"
   ]
  }
 ],
 "metadata": {
  "kernelspec": {
   "display_name": "Python 3",
   "language": "python",
   "name": "python3"
  },
  "language_info": {
   "codemirror_mode": {
    "name": "ipython",
    "version": 3
   },
   "file_extension": ".py",
   "mimetype": "text/x-python",
   "name": "python",
   "nbconvert_exporter": "python",
   "pygments_lexer": "ipython3",
   "version": "3.7.3"
  }
 },
 "nbformat": 4,
 "nbformat_minor": 2
}
