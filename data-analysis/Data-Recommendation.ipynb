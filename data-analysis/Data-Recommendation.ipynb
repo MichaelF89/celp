{
 "cells": [
  {
   "cell_type": "markdown",
   "metadata": {},
   "source": [
    "# Analyze Data\n",
    "\n",
    "Korte data analyse voor het verkenne van de yelp data voor het verslag van week 1."
   ]
  },
  {
   "cell_type": "code",
   "execution_count": 1,
   "metadata": {},
   "outputs": [],
   "source": [
    "# Imports\n",
    "import pandas as pd\n",
    "import os\n",
    "import json\n",
    "import random\n",
    "from IPython.display import display\n",
    "from collections import defaultdict\n",
    "from sklearn.metrics.pairwise import cosine_similarity, manhattan_distances, euclidean_distances\n",
    "from sklearn.model_selection import train_test_split\n",
    "import numpy as np\n",
    "import operator"
   ]
  },
  {
   "cell_type": "code",
   "execution_count": 2,
   "metadata": {},
   "outputs": [],
   "source": [
    "\"\"\"\n",
    "This file loads the data from the data directory and shows you how.\n",
    "Feel free to change the contents of this file!\n",
    "Do ensure these functions remain functional:\n",
    "    - get_business(city, business_id)\n",
    "    - get_reviews(city, business_id=None, user_id=None, n=10)\n",
    "    - get_user(username)\n",
    "\"\"\"\n",
    "\n",
    "import os\n",
    "import json\n",
    "import random\n",
    "\n",
    "DATA_DIR = \"../data\"\n",
    "\n",
    "\n",
    "def load_cities():\n",
    "    \"\"\"\n",
    "    Finds all cities (all directory names) in ./data\n",
    "    Returns a list of city names\n",
    "    \"\"\"\n",
    "    return os.listdir(DATA_DIR)\n",
    "\n",
    "\n",
    "def load(cities, data_filename):\n",
    "    \"\"\"\n",
    "    Given a list of city names,\n",
    "        for each city extract all data from ./data/<city>/<data_filename>.json\n",
    "    Returns a dictionary of the form:\n",
    "        {\n",
    "            <city1>: [<entry1>, <entry2>, ...],\n",
    "            <city2>: [<entry1>, <entry2>, ...],\n",
    "            ...\n",
    "        }\n",
    "    \"\"\"\n",
    "    data = {}\n",
    "    for city in cities:\n",
    "        city_data = []\n",
    "        with open(f\"{DATA_DIR}/{city}/{data_filename}.json\", \"r\") as f:\n",
    "            for line in f:\n",
    "                city_data.append(json.loads(line))\n",
    "        data[city] = city_data\n",
    "    return data\n",
    "\n",
    "\n",
    "def get_business(city, business_id):\n",
    "    \"\"\"\n",
    "    Given a city name and a business id, return that business's data.\n",
    "    Returns a dictionary of the form:\n",
    "        {\n",
    "            name:str,\n",
    "            business_id:str,\n",
    "            stars:str,\n",
    "            ...\n",
    "        }\n",
    "    \"\"\"\n",
    "    for business in BUSINESSES[city]:\n",
    "        if business[\"business_id\"] == business_id:\n",
    "            return business\n",
    "    raise IndexError(f\"invalid business_id {business_id}\")\n",
    "\n",
    "\n",
    "def get_reviews(city, business_id=None, user_id=None, n=10):\n",
    "    \"\"\"\n",
    "    Given a city name and optionally a business id and/or auser id,\n",
    "    return n reviews for that business/user combo in that city.\n",
    "    Returns a dictionary of the form:\n",
    "        {\n",
    "            text:str,\n",
    "            stars:str,\n",
    "            ...\n",
    "        }\n",
    "    \"\"\"\n",
    "    def should_keep(review):\n",
    "        if business_id and review[\"business_id\"] != business_id:\n",
    "            return False\n",
    "        if user_id and review[\"user_id\"] != user_id:\n",
    "            return False\n",
    "        return True\n",
    "\n",
    "    reviews = REVIEWS[city]\n",
    "    reviews = [review for review in reviews if should_keep(review)]\n",
    "    return random.sample(reviews, min(n, len(reviews)))\n",
    "\n",
    "\n",
    "def get_user(username):\n",
    "    \"\"\"\n",
    "    Get a user by its username\n",
    "    Returns a dictionary of the form:\n",
    "        {\n",
    "            user_id:str,\n",
    "            name:str,\n",
    "            ...\n",
    "        }\n",
    "    \"\"\"\n",
    "    for city, users in USERS.items():\n",
    "        for user in users:\n",
    "            if user[\"name\"] == username:\n",
    "                return user\n",
    "    raise IndexError(f\"invalid username {username}\")\n",
    "\n",
    "\n",
    "#CITIES = load_cities()\n",
    "#USERS = load(CITIES, \"user\")\n",
    "#BUSINESSES = load(CITIES, \"business\")\n",
    "#REVIEWS = load(CITIES, \"review\")\n",
    "#TIPS = load(CITIES, \"tip\")\n",
    "#CHECKINS = load(CITIES, \"checkin\")\n"
   ]
  },
  {
   "cell_type": "code",
   "execution_count": 3,
   "metadata": {},
   "outputs": [
    {
     "data": {
      "text/plain": [
       "' Schoonmaken BUSINESSES'"
      ]
     },
     "execution_count": 3,
     "metadata": {},
     "output_type": "execute_result"
    }
   ],
   "source": [
    "''' Schoonmaken BUSINESSES'''\n",
    "#business = citymerge(BUSINESSES)\n",
    "#business = business[business['is_open'] == 1 & business['categories'].notna()]\n",
    "#business['categories'] = business['categories'].str.split(', ')\n",
    "#print(business.latitude.mean(), business.longitude.mean())"
   ]
  },
  {
   "cell_type": "code",
   "execution_count": 4,
   "metadata": {},
   "outputs": [],
   "source": [
    "# Functie om data van alle steden samen te voegen in 1 DataFrame\n",
    "def citymerge(var):\n",
    "    return pd.concat([pd.DataFrame(var[city]) for city in var]).reset_index()"
   ]
  },
  {
   "cell_type": "code",
   "execution_count": 5,
   "metadata": {},
   "outputs": [],
   "source": [
    "CITY = 'westlake'\n",
    "reviews = pd.read_json(DATA_DIR+'/'+CITY+'/review.json', lines=True)\n",
    "businesses = pd.read_json(DATA_DIR+'/'+CITY+'/business.json', lines=True)\n",
    "#businesses = citymerge(BUSINESSES)\n",
    "reviews_train, review_test = train_test_split(reviews, random_state=4)#citymerge(REVIEWS)"
   ]
  },
  {
   "cell_type": "code",
   "execution_count": 6,
   "metadata": {
    "scrolled": true
   },
   "outputs": [],
   "source": [
    "# Creeer Utility Matrix en Mean Utility Matrix uit een variabele van data.py (REVIEWS, USERS, BUSINESSES, etc.)\n",
    "def create_utility_matrix(df):\n",
    "\n",
    "    utility_matrix  = pd.pivot_table(df, index='business_id', columns='user_id', values='stars')\n",
    "\n",
    "    mean_ultility_matrix = utility_matrix - utility_matrix.mean()\n",
    "    \n",
    "    return utility_matrix, mean_ultility_matrix\n",
    "    \n",
    "utility_matrix, mean_utility_matrix = create_utility_matrix(reviews_train)"
   ]
  },
  {
   "cell_type": "code",
   "execution_count": 7,
   "metadata": {},
   "outputs": [],
   "source": [
    "def manhattan_similarity(matrix, id1, id2):\n",
    "    \"\"\"Compute manhattan similarity between two rows.\"\"\"\n",
    "    # compute distance\n",
    "    distance = manhattan_distances(matrix, id1, id2)\n",
    "    \n",
    "    # if no distance could be computed (no shared features) return a similarity of 0\n",
    "    if distance is np.nan:\n",
    "        return 0\n",
    "    \n",
    "    # else return similarity\n",
    "    return 1 / (1 + distance)"
   ]
  },
  {
   "cell_type": "code",
   "execution_count": 8,
   "metadata": {},
   "outputs": [],
   "source": [
    "# Creeer Similarity Matrix uit Mean Utility Matrix\n",
    "def similarity(mum):\n",
    "    similarity_matrix_cosine = pd.DataFrame(cosine_similarity(mum.fillna(0)), index=mum.index, columns=mum.index).replace(0, np.nan)\n",
    "    similarity_matrix_manhattan = 1 / (pd.DataFrame(manhattan_distances(mum.fillna(0)), index=mum.index, columns=mum.index).replace(0, np.nan) +1)\n",
    "    similarity_matrix_euclidean = 1 / (pd.DataFrame(euclidean_distances(mum.fillna(0)), index=mum.index, columns=mum.index).replace(0, np.nan) +1)\n",
    "    \n",
    "    return similarity_matrix_cosine, similarity_matrix_manhattan, similarity_matrix_euclidean   \n",
    "    \n",
    "similarity_matrix, similarity_matrix_manhattan, similarity_matrix_euclidean = similarity(mean_utility_matrix)"
   ]
  },
  {
   "cell_type": "code",
   "execution_count": 9,
   "metadata": {},
   "outputs": [
    {
     "name": "stdout",
     "output_type": "stream",
     "text": [
      "Wall time: 8.48 ms\n"
     ]
    },
    {
     "data": {
      "text/plain": [
       "business_id\n",
       "r0DureDzsHpzs_VZem5k7g    0.100088\n",
       "eigkQ_PuRON8Se265NqQDQ    0.078081\n",
       "oZH3Ee7Yjk7u8B4Ed0oVOg    0.045155\n",
       "6tK-R3BQ-GiMxsCGtxpJyw    0.044648\n",
       "EpJhRvkGDFE-GDPHM32klw    0.012774\n",
       "Name: ZTg8adZipR3QDoJmFZZqJw, dtype: float64"
      ]
     },
     "metadata": {},
     "output_type": "display_data"
    }
   ],
   "source": [
    "def select_neighborhood(similarity_matrix, utility_matrix, target_user, target_business):\n",
    "    \"\"\"selects all items with similarity > 0\"\"\"\n",
    "    # Controleer of target_user en target_business wel in de matrix zijn te vinden.\n",
    "    if (target_business in similarity_matrix.index) and (target_user in utility_matrix.columns):\n",
    "\n",
    "        # Maak een boolean mask van bedrijven die de gebruiker beoordeeld heeft met een similarity hoger dan 0.\n",
    "        SelectedBusinesses = (similarity_matrix[target_business].index.isin(utility_matrix[target_user].dropna().index)) & (similarity_matrix[target_business] > 0)\n",
    "    \n",
    "        # return de bedrijven met de similarity door gebruik te maken van de eerder gecreeerde boolean mask.\n",
    "        return similarity_matrix[target_business][SelectedBusinesses].sort_values(ascending = False)\n",
    "    \n",
    "    # Bij waarden die niet gevonden kunnen worden geef None terug.\n",
    "    else:\n",
    "        return pd.Series()\n",
    "\n",
    "%time neighborhood = select_neighborhood(similarity_matrix, utility_matrix, 'e3fdrK1tMCwWLr76LFe-cA', 'ZTg8adZipR3QDoJmFZZqJw')\n",
    "display(neighborhood)"
   ]
  },
  {
   "cell_type": "code",
   "execution_count": 10,
   "metadata": {},
   "outputs": [
    {
     "name": "stdout",
     "output_type": "stream",
     "text": [
      "3.0354403045653915\n"
     ]
    }
   ],
   "source": [
    "def weighted_mean(neighborhood, utility_matrix, user_id):\n",
    "    # Controleer of neighborhood wel een Series is en utility_matrix wel een DataFrame, anders return np.nan.\n",
    "    if isinstance(neighborhood, pd.Series) and isinstance(utility_matrix, pd.DataFrame):\n",
    "        # Als neighborhood of de utility_matrix leeg zijn return dan 0.\n",
    "        if (neighborhood.empty) or (utility_matrix.empty):\n",
    "            return np.nan\n",
    "        \n",
    "        # Controleer of user_id als kolom te vinden is, anders return 0.\n",
    "        elif user_id in utility_matrix.columns:\n",
    "    \n",
    "            # Gebruik de bovenstaande formule om het gewogen gemiddelde voor de neighborhood te berekenen.\n",
    "            return ((utility_matrix[user_id] * neighborhood).dropna().sum()) / (neighborhood.sum())\n",
    "\n",
    "        else:\n",
    "            return np.nan\n",
    "    else:\n",
    "        return np.nan\n",
    "    \n",
    "prediction = weighted_mean(neighborhood, utility_matrix, 'e3fdrK1tMCwWLr76LFe-cA')\n",
    "print (prediction)"
   ]
  },
  {
   "cell_type": "code",
   "execution_count": 11,
   "metadata": {},
   "outputs": [],
   "source": [
    "# Voorspel een score voor bedrijven en return deze als dict\n",
    "def predictions(utility_matrix, similarity_matrix, user_id):\n",
    "    predictdict = defaultdict()\n",
    "    \n",
    "    # Extract list of reviewed businesses to get new results\n",
    "    review_list = utility_matrix[user_id][utility_matrix[user_id].notna()].index\n",
    "    \n",
    "    for business_id in similarity_matrix.index:\n",
    "        if business_id in review_list:\n",
    "            pass\n",
    "        else:\n",
    "            predictdict[business_id] = weighted_mean(select_neighborhood(similarity_matrix, utility_matrix, user_id, business_id), utility_matrix, user_id)\n",
    "    \n",
    "    return predictdict"
   ]
  },
  {
   "cell_type": "code",
   "execution_count": 12,
   "metadata": {
    "scrolled": true
   },
   "outputs": [
    {
     "name": "stdout",
     "output_type": "stream",
     "text": [
      "Wall time: 719 ms\n",
      "Wall time: 2.36 s\n"
     ]
    }
   ],
   "source": [
    "# display(pd.read_json(DATA_DIR+'/'+CITY+'/user.json', lines=True).head())\n",
    "# reviews[reviews['user_id'] == 'apP3CApEq6-z59tRLwEBYA']['business_id']\n",
    "\n",
    "def predictions_combiner(ibcf_predictions, cb_predictions, ibcf_weight=0.8, reviews=reviews_train, businesses=businesses):\n",
    "    hybrid_predictions = {}\n",
    "    cb_weight = 1 - ibcf_weight\n",
    "    for business_id in cb_predictions:\n",
    "        if business_id in ibcf_predictions:\n",
    "            ibcf_prediction = ibcf_predictions[business_id]\n",
    "            cb_prediction = cb_predictions[business_id]\n",
    "            hybrid_predictions[business_id] = ibcf_prediction*ibcf_weight + cb_prediction*cb_weight\n",
    "            if ibcf_prediction == np.nan:\n",
    "                hybrid_predictions[business_id] = cb_prediction\n",
    "            if cb_prediction == np.nan:\n",
    "                hybrid_predictions[business_id] = ibcf_prediction\n",
    "        else:\n",
    "            hybrid_predictions[business_id] = cb_prediction\n",
    "            \n",
    "    return  dict(sorted(hybrid_predictions.items(), key=operator.itemgetter(1), reverse=True))\n",
    "    \n",
    "def content_based_recommender(user_id, businesses=businesses):\n",
    "    predicted_ratings = {}\n",
    "    category_dict = make_category_dict(user_id)\n",
    "    for business_id in businesses['business_id']:\n",
    "        predicted_ratings[business_id] = content_based_predictor(user_id, business_id, category_dict)\n",
    "    return predicted_ratings\n",
    "    \n",
    "def content_based_predictor(user_id, business_id, category_dict, reviews=reviews_train, businesses=businesses):\n",
    "    ratings = []\n",
    "    categories = businesses[businesses['business_id'] == business_id]['categories'].str.split(', ')\n",
    "    for x in categories:\n",
    "        for category in x:\n",
    "            if category in category_dict:\n",
    "                ratings.append(category_dict[category])\n",
    "    if len(ratings) == 0:\n",
    "        return np.nan\n",
    "    else:\n",
    "        return sum(ratings)/len(ratings)\n",
    "        \n",
    "def make_category_dict(user_id, reviews=reviews_train, businesses=businesses):\n",
    "    category_dict = {}\n",
    "    user_reviews = reviews[reviews['user_id'] == user_id]\n",
    "    business_ids = user_reviews['business_id']\n",
    "    for business_id in business_ids:\n",
    "        categories = businesses[businesses['business_id'] == business_id]['categories'].str.split(', ')\n",
    "        stars = user_reviews[user_reviews['business_id'] == business_id]['stars'].values[0]\n",
    "        for x in categories:\n",
    "            for category in x:\n",
    "                if category in category_dict:\n",
    "                    category_dict[category].append(stars)\n",
    "                else:\n",
    "                    category_dict[category] = [stars]\n",
    "    for category in category_dict:\n",
    "        category_dict[category] = sum(category_dict[category])/len(category_dict[category])\n",
    "    return category_dict\n",
    "\n",
    "%time cb_predictions = content_based_recommender('e3fdrK1tMCwWLr76LFe-cA')\n",
    "%time ibcf_predictions = predictions(utility_matrix, similarity_matrix, 'e3fdrK1tMCwWLr76LFe-cA')\n",
    "#cb_predictions\n",
    "#ibcf_predictions\n",
    "#only_icbf = predictions_combiner(ibcf_predictions, cb_predictions)\n",
    "all_predictions = predictions_combiner(ibcf_predictions, cb_predictions)"
   ]
  },
  {
   "cell_type": "code",
   "execution_count": 13,
   "metadata": {},
   "outputs": [
    {
     "data": {
      "text/plain": [
       "['C_oejk3EzfsxP7-owQDkbQ',\n",
       " 'K5iqS0JXnKFFujZHIWQsag',\n",
       " 'VZKWW2zQbk-rxwpAcque8w',\n",
       " 'nYvBZYg9rfqWFTYuxSVMdw',\n",
       " '0ZN2MfHyjNIkCx7qJvVhDg',\n",
       " 'OD88wvH-9LxM_Gz4oHOIDg',\n",
       " 'mW28NmePxX7pZv8lCv7v2Q',\n",
       " '2lcK3d4K7FU6O8wXdWzOmA',\n",
       " 'i7lFu1-iadoXW5Hn-JWaeg',\n",
       " '-MsRvdPnuw6QuLn5Vxjruw']"
      ]
     },
     "execution_count": 13,
     "metadata": {},
     "output_type": "execute_result"
    }
   ],
   "source": [
    "def select_items(predictions):\n",
    "    pool = []\n",
    "    safety = 0\n",
    "    average = sum(list(predictions.values())[0:10])/10\n",
    "    average -= 0.1 * average\n",
    "    for prediction in predictions:\n",
    "        if predictions[prediction] > average:\n",
    "            pool.append(prediction)\n",
    "        else:\n",
    "            break\n",
    "    if len(pool) < 10:\n",
    "        pool = list(predictions.keys())[0:10]\n",
    "    return random.sample(pool, k=10)\n",
    "\n",
    "select_items(all_predictions)"
   ]
  },
  {
   "cell_type": "code",
   "execution_count": 14,
   "metadata": {},
   "outputs": [
    {
     "data": {
      "text/plain": [
       "nYvBZYg9rfqWFTYuxSVMdw    3.631280\n",
       "0ZN2MfHyjNIkCx7qJvVhDg    2.984213\n",
       "K5iqS0JXnKFFujZHIWQsag    3.833903\n",
       "2lcK3d4K7FU6O8wXdWzOmA    2.930059\n",
       "KR2kRmHnRCaNzOUEGoB25w    2.678359\n",
       "UT0FUBRmpnGHE1U4Jpegxw    3.880000\n",
       "_v7lMUtdd6WlgKUEBLA_VA    2.939683\n",
       "QcW0360vpeEilCLBlKEiLw    3.375888\n",
       "bzdb1jJ1j8Qn_RVHY97FnA    2.130220\n",
       "cbjF6szaq2orE0BplGAKEA    2.066322\n",
       "z58nyUVyDV-vC7nXFfvR5g    3.042857\n",
       "5kCRty4p7tBwM9P7MAXgvA    3.509205\n",
       "m9Cme6bUPuZFtqhN1AgmdQ    3.642397\n",
       "b--I9Ed6N5P9fwEb2qaiqg    2.552089\n",
       "95Efv0xKoUsP5lvTnaeK5w    2.342857\n",
       "OiR6kP_mAD47vKU1WiPshg    3.428624\n",
       "x5lN8HdgDVWXwoL9N7MDoQ    3.042857\n",
       "mEx2NJBepbnVSjZG6MqwJA    2.966476\n",
       "hTdV1_Xn1j6yhpIR7CgCJQ    2.887981\n",
       "BsLxCm_DMxCNVEPHoaj8hw    3.504768\n",
       "EpJhRvkGDFE-GDPHM32klw    3.794709\n",
       "SPb3oLIVZynmiS670Vo1kQ    3.605925\n",
       "U0eUwTGWDBVdE67qVHYEjQ    4.045514\n",
       "vkD7xW81EgCSWwiTvxtVAw    3.458931\n",
       "1p5izA5Py5zN7CuNAxPkvw    3.274480\n",
       "t10X85k_m8RuAZZgoMzvXg    2.811380\n",
       "-mP3F3srknwKJdJ5FqcX5Q    2.656343\n",
       "bRAQFWRxN4lh9WogWxLJ9g    3.320645\n",
       "JsFTgZEGe3xuTMdJQgx2Eg    2.082724\n",
       "zcN7cJvxIXY7cDBjI86Ziw    3.870000\n",
       "                            ...   \n",
       "REfekXeUbPWGkgvlzSNbpw    3.746032\n",
       "46KhEmhF3mn9ifWP67HpTA    3.882857\n",
       "5rb2tq_AhxQuRYu_bh464g    3.414286\n",
       "v4WFgb4_rxCyfX1aG6eCZw    3.102749\n",
       "SA4ZV8JInv9IkW7L8O7JlA    3.356523\n",
       "akRtfcCezswizRIaAqJ4fQ    2.988571\n",
       "I_eSnGmk5nDdsOL6Y4OAEg    2.841182\n",
       "MWcN6qLWTfRJqLySxwJNqQ    2.738541\n",
       "y_hf7TO6b6-VkxjhV9cqyA    2.691764\n",
       "6tK-R3BQ-GiMxsCGtxpJyw    4.244444\n",
       "aRmNacukkGh7n_geAbb7oA    3.975232\n",
       "oZH3Ee7Yjk7u8B4Ed0oVOg    3.331066\n",
       "irwDkp2eMP2x-4MfunRt8g    3.288014\n",
       "mY9tk1ZVMf9Zco9SaXMk6Q    2.434643\n",
       "TU9YbBD7Y9r0ev8qDbpELA    3.880000\n",
       "Scub4d_tTkdD7g7QxcaaGg    3.873016\n",
       "PHceo653FqAeQHHrvvaMjA    3.709524\n",
       "ImbjRcr33wAm6o1ShWecpg    3.336199\n",
       "3NuQdQQdLV9de4GODl_cUA    3.110863\n",
       "vfsbLhXGiXm8lqI12abrbQ    3.222739\n",
       "8_9NeKvvJVaDZyhwchKM-w    3.080000\n",
       "xphYIW9zqCr_3CfcAhFppg    3.023810\n",
       "He6gCZdGICRXw-G7IusxBA    3.030444\n",
       "U1sdC4OHzPuLpl0ZY3YcPw    2.393581\n",
       "iytPyg_lc_cBb3id1oaDGA    3.232042\n",
       "rcoAajAVBBXsBNfgKYaH-w    2.989805\n",
       "kts54mVKhgMvU_qDsXCCpw    2.886374\n",
       "I_RkxalxylAoseHesrgfJw    2.723651\n",
       "rubbDSAiD7wzzqNDmgsD4g    3.880000\n",
       "gIroxzbCiNsn9qIhpGDf0Q    3.121544\n",
       "Length: 123, dtype: float64"
      ]
     },
     "execution_count": 14,
     "metadata": {},
     "output_type": "execute_result"
    }
   ],
   "source": [
    "pd.Series(all_predictions).dropna()"
   ]
  },
  {
   "cell_type": "code",
   "execution_count": 15,
   "metadata": {
    "scrolled": true
   },
   "outputs": [
    {
     "name": "stderr",
     "output_type": "stream",
     "text": [
      "c:\\python\\lib\\site-packages\\pandas\\core\\indexing.py:362: SettingWithCopyWarning: \n",
      "A value is trying to be set on a copy of a slice from a DataFrame.\n",
      "Try using .loc[row_indexer,col_indexer] = value instead\n",
      "\n",
      "See the caveats in the documentation: http://pandas.pydata.org/pandas-docs/stable/indexing.html#indexing-view-versus-copy\n",
      "  self.obj[key] = _infer_fill_value(value)\n",
      "c:\\python\\lib\\site-packages\\pandas\\core\\indexing.py:543: SettingWithCopyWarning: \n",
      "A value is trying to be set on a copy of a slice from a DataFrame.\n",
      "Try using .loc[row_indexer,col_indexer] = value instead\n",
      "\n",
      "See the caveats in the documentation: http://pandas.pydata.org/pandas-docs/stable/indexing.html#indexing-view-versus-copy\n",
      "  self.obj[item] = s\n"
     ]
    }
   ],
   "source": [
    "def predict_ratings_item_based(similarity, utility, test_data):\n",
    "    # For loop door alle index waarden\n",
    "    for ID in test_data.index:\n",
    "        # Bereken neighbourhood\n",
    "        neighborhood = select_neighborhood(similarity, utility, test_data.loc[ID, 'user_id'], test_data.loc[ID, 'business_id'])\n",
    "        # Voeg het gewogen gemiddelde toe als predicted rating aan de test_data Dataframe\n",
    "        test_data.loc[ID, 'predicted rating'] = weighted_mean(neighborhood, utility, test_data.loc[ID, 'user_id'])\n",
    "    \n",
    "    return test_data\n",
    "    \n",
    "predicted_item_based_cosine = predict_ratings_item_based(similarity_matrix, utility_matrix, review_test[['user_id', 'business_id', 'stars']])\n",
    "# predicted_item_based_manhattan = predict_ratings_item_based(similarity_matrix_manhattan, utility_matrix, review_test[['user_id', 'business_id', 'stars']])\n",
    "# predicted_item_based_euclidean = predict_ratings_item_based(similarity_matrix_euclidean, utility_matrix, review_test[['user_id', 'business_id', 'stars']])"
   ]
  },
  {
   "cell_type": "code",
   "execution_count": 16,
   "metadata": {},
   "outputs": [
    {
     "name": "stdout",
     "output_type": "stream",
     "text": [
      "Cosine Similarity MSE: 1.8672122795060613\n"
     ]
    }
   ],
   "source": [
    "def mse(predicted_ratings, column='predicted rating'):\n",
    "    # Bereken mse uit de formule\n",
    "    return ((predicted_ratings['stars'] - predicted_ratings[column]).pow(2).sum()) / (predicted_ratings.shape[0])\n",
    "    \n",
    "print('Cosine Similarity MSE: '+str(mse(predicted_item_based_cosine.dropna())))\n",
    "# print('Manhattan Similarity MSE: '+str(mse(predicted_item_based_manhattan)))\n",
    "# print('Euclidean Similarity MSE: '+str(mse(predicted_item_based_euclidean)))"
   ]
  },
  {
   "cell_type": "code",
   "execution_count": 17,
   "metadata": {},
   "outputs": [
    {
     "name": "stdout",
     "output_type": "stream",
     "text": [
      "100\\ 2224\n",
      "200\\ 2224\n",
      "300\\ 2224\n",
      "400\\ 2224\n",
      "500\\ 2224\n",
      "600\\ 2224\n",
      "700\\ 2224\n",
      "800\\ 2224\n",
      "900\\ 2224\n",
      "1000\\ 2224\n",
      "1100\\ 2224\n",
      "1200\\ 2224\n",
      "1300\\ 2224\n",
      "1400\\ 2224\n",
      "1500\\ 2224\n",
      "1600\\ 2224\n",
      "1700\\ 2224\n",
      "1800\\ 2224\n",
      "1900\\ 2224\n",
      "2000\\ 2224\n",
      "2100\\ 2224\n",
      "2200\\ 2224\n"
     ]
    }
   ],
   "source": [
    "def predict_ratings_content_based(test_data):\n",
    "    # For loop door alle index waarden\n",
    "    total = len(test_data.index)\n",
    "    current = 0\n",
    "    for ID in test_data.index:\n",
    "        current += 1\n",
    "        if current % 100 == 0:\n",
    "            print(str(current) + \"\\ \" + str(total))\n",
    "        # Bereken neighbourhood\n",
    "        category_dict = make_category_dict(test_data.loc[ID, 'user_id'])\n",
    "        test_data.loc[ID, 'predicted rating'] = content_based_predictor(test_data.loc[ID, 'user_id'], test_data.loc[ID, 'business_id'], category_dict)\n",
    "    \n",
    "    return test_data\n",
    "\n",
    "predicted_content_based = predict_ratings_content_based(review_test[['user_id', 'business_id', 'stars']])"
   ]
  },
  {
   "cell_type": "code",
   "execution_count": 18,
   "metadata": {},
   "outputs": [
    {
     "name": "stdout",
     "output_type": "stream",
     "text": [
      "2.1898769978247796\n",
      "Wall time: 7.99 ms\n"
     ]
    }
   ],
   "source": [
    "%time print(mse(predicted_content_based.dropna()))"
   ]
  },
  {
   "cell_type": "code",
   "execution_count": 19,
   "metadata": {},
   "outputs": [],
   "source": [
    "def predictions_combiner(ibcf_predictions, cb_predictions, ibcf_weight=0.8, reviews=reviews_train, businesses=businesses):\n",
    "#     hybrid_predictions = ibcf_predictions\n",
    "    cb_weight = 1 - ibcf_weight\n",
    "    for business_id in cb_predictions['business_id']:\n",
    "        cb_prediction = cb_predictions[cb_predictions['business_id'] == business_id]['predicted rating']\n",
    "        if business_id in ibcf_predictions['business_id']:\n",
    "            ibcf_prediction = ibcf_predictions[ibcf_predictions['business_id'] == business_id]['predicted rating']\n",
    "            hybrid_predictions[business_id] = ibcf_prediction * ibcf_weight + cb_prediction * cb_weight\n",
    "            if ibcf_prediction == np.nan:\n",
    "                hybrid_predictions[business_id] = cb_prediction\n",
    "            if cb_prediction == np.nan:\n",
    "                hybrid_predictions[business_id] = ibcf_prediction\n",
    "        else:\n",
    "            hybrid_predictions[business_id] = cb_prediction\n",
    "    return hybrid_predictions\n",
    "\n",
    "def df_predictions_combiner(ibcf_predictions, cb_predictions, ibcf_weight=0.8):\n",
    "    hybrid_predictions = ibcf_predictions.copy()\n",
    "    cb_weight = 1 - ibcf_weight\n",
    "    for index, prediction in ibcf_predictions.iterrows():\n",
    "        cb_prediction = cb_predictions.loc[index]['predicted rating']\n",
    "        ibcf_prediction = prediction['predicted rating']\n",
    "        #print(cb_prediction)\n",
    "        #print(ibcf_prediction)\n",
    "        if (np.isfinite(ibcf_prediction)) & (np.isfinite(cb_prediction)):\n",
    "            weighted_average = cb_prediction * cb_weight + ibcf_prediction * ibcf_weight\n",
    "            hybrid_predictions.loc[index, hybrid_predictions.columns.get_loc('predicted rating')] = weighted_average\n",
    "            #hybrid_predictions.loc[index, 'predicted rating'] = weighted_average\n",
    "        elif np.isfinite(ibcf_prediction):\n",
    "            hybrid_predictions.loc[index, hybrid_predictions.columns.get_loc('predicted rating')] = ibcf_prediction\n",
    "            #hybrid_predictions.loc[index]['predicted rating'] = icbf_prediction\n",
    "        elif np.isfinite(cb_prediction):\n",
    "            hybrid_predictions.loc[index, hybrid_predictions.columns.get_loc('predicted rating')] = cb_prediction\n",
    "            #hybrid_predictions.loc[index]['predicted rating'] = cb_prediction\n",
    "        else:\n",
    "            hybrid_predictions.loc[index, hybrid_predictions.columns.get_loc('predicted rating')] = np.nan\n",
    "            #hybrid_predictions.loc[index]['predicted rating'] = np.nan\n",
    "        #print(hybrid_predictions.loc[index, hybrid_predictions.columns.get_loc('predicted rating')])\n",
    "        #print('-------------')\n",
    "    \n",
    "    return hybrid_predictions\n",
    "        \n",
    "    \n",
    "# %time hybrid_predictions = df_predictions_combiner(predicted_item_based_cosine, predicted_content_based, 0.8)\n"
   ]
  },
  {
   "cell_type": "code",
   "execution_count": 22,
   "metadata": {},
   "outputs": [
    {
     "name": "stdout",
     "output_type": "stream",
     "text": [
      "2.172125931973798\n",
      "2.14794686843872\n",
      "2.130967144274184\n",
      "2.121186759480191\n",
      "2.118605714056742\n",
      "2.1232240080038354\n",
      "2.1350416413214712\n",
      "2.1540586140096507\n",
      "2.1802749260683725\n",
      "2.213690577497638\n",
      "2.2543055682974464\n"
     ]
    }
   ],
   "source": [
    "def calculate_mse_weights(predicted_item_based_cosine, predicted_content_based):\n",
    "    for weight in [0,0.1, 0.2, 0.3, 0.4, 0.5, 0.6, 0.7, 0.8, 0.9,1]:\n",
    "        hybrid_predictions = df_predictions_combiner(predicted_item_based_cosine, predicted_content_based, weight)\n",
    "        mean_square_error = mse(hybrid_predictions.dropna(subset=[3]), 3)\n",
    "        print(mean_square_error)#\"MSE for weight: \" + str(weight) + \" is \" + str(mean_square_error))\n",
    "\n",
    "calculate_mse_weights(predicted_item_based_cosine, predicted_content_based)"
   ]
  },
  {
   "cell_type": "code",
   "execution_count": 37,
   "metadata": {},
   "outputs": [
    {
     "data": {
      "text/plain": [
       "Text(0, 0.5, 'MSE')"
      ]
     },
     "execution_count": 37,
     "metadata": {},
     "output_type": "execute_result"
    },
    {
     "data": {
      "image/png": "[encoded data removed]",
      "text/plain": [
       "<Figure size 432x288 with 1 Axes>"
      ]
     },
     "metadata": {},
     "output_type": "display_data"
    }
   ],
   "source": [
    "x = [0,0.1, 0.2, 0.3, 0.4, 0.5, 0.6, 0.7, 0.8, 0.9,1]\n",
    "y = [2.172125931973798, 2.14794686843872, 2.130967144274184, 2.121186759480191, 2.118605714056742, 2.1232240080038354, 2.1350416413214712, 2.1540586140096507, 2.1802749260683725, 2.213690577497638, 2.2543055682974464]\n",
    "xy = {}\n",
    "\n",
    "for i in range(len(x)):\n",
    "    xy[x[i]] = y[i]\n",
    "\n",
    "%matplotlib inline\n",
    "import matplotlib.pyplot as plt\n",
    "plt.style.use('seaborn-whitegrid')\n",
    "\n",
    "plt.plot(x,y)\n",
    "plt.xlabel('Weight IBCF')\n",
    "plt.ylabel('MSE')\n"
   ]
  },
  {
   "cell_type": "code",
   "execution_count": null,
   "metadata": {},
   "outputs": [],
   "source": []
  }
 ],
 "metadata": {
  "kernelspec": {
   "display_name": "Python 3",
   "language": "python",
   "name": "python3"
  },
  "language_info": {
   "codemirror_mode": {
    "name": "ipython",
    "version": 3
   },
   "file_extension": ".py",
   "mimetype": "text/x-python",
   "name": "python",
   "nbconvert_exporter": "python",
   "pygments_lexer": "ipython3",
   "version": "3.7.3"
  }
 },
 "nbformat": 4,
 "nbformat_minor": 2
}
