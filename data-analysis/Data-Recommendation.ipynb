{
 "cells": [
  {
   "cell_type": "markdown",
   "metadata": {},
   "source": [
    "# Analyze Data\n",
    "\n",
    "Korte data analyse voor het verkenne van de yelp data voor het verslag van week 1."
   ]
  },
  {
   "cell_type": "code",
   "execution_count": 1,
   "metadata": {},
   "outputs": [],
   "source": [
    "# Imports\n",
    "import pandas as pd\n",
    "import os\n",
    "import json\n",
    "import random\n",
    "from IPython.display import display\n",
    "from collections import defaultdict\n",
    "from sklearn.metrics.pairwise import cosine_similarity\n",
    "import numpy as np"
   ]
  },
  {
   "cell_type": "code",
   "execution_count": 2,
   "metadata": {},
   "outputs": [],
   "source": [
    "\"\"\"\n",
    "This file loads the data from the data directory and shows you how.\n",
    "Feel free to change the contents of this file!\n",
    "Do ensure these functions remain functional:\n",
    "    - get_business(city, business_id)\n",
    "    - get_reviews(city, business_id=None, user_id=None, n=10)\n",
    "    - get_user(username)\n",
    "\"\"\"\n",
    "\n",
    "import os\n",
    "import json\n",
    "import random\n",
    "\n",
    "DATA_DIR = \"../data\"\n",
    "\n",
    "\n",
    "def load_cities():\n",
    "    \"\"\"\n",
    "    Finds all cities (all directory names) in ./data\n",
    "    Returns a list of city names\n",
    "    \"\"\"\n",
    "    return os.listdir(DATA_DIR)\n",
    "\n",
    "\n",
    "def load(cities, data_filename):\n",
    "    \"\"\"\n",
    "    Given a list of city names,\n",
    "        for each city extract all data from ./data/<city>/<data_filename>.json\n",
    "    Returns a dictionary of the form:\n",
    "        {\n",
    "            <city1>: [<entry1>, <entry2>, ...],\n",
    "            <city2>: [<entry1>, <entry2>, ...],\n",
    "            ...\n",
    "        }\n",
    "    \"\"\"\n",
    "    data = {}\n",
    "    for city in cities:\n",
    "        city_data = []\n",
    "        with open(f\"{DATA_DIR}/{city}/{data_filename}.json\", \"r\") as f:\n",
    "            for line in f:\n",
    "                city_data.append(json.loads(line))\n",
    "        data[city] = city_data\n",
    "    return data\n",
    "\n",
    "\n",
    "def get_business(city, business_id):\n",
    "    \"\"\"\n",
    "    Given a city name and a business id, return that business's data.\n",
    "    Returns a dictionary of the form:\n",
    "        {\n",
    "            name:str,\n",
    "            business_id:str,\n",
    "            stars:str,\n",
    "            ...\n",
    "        }\n",
    "    \"\"\"\n",
    "    for business in BUSINESSES[city]:\n",
    "        if business[\"business_id\"] == business_id:\n",
    "            return business\n",
    "    raise IndexError(f\"invalid business_id {business_id}\")\n",
    "\n",
    "\n",
    "def get_reviews(city, business_id=None, user_id=None, n=10):\n",
    "    \"\"\"\n",
    "    Given a city name and optionally a business id and/or auser id,\n",
    "    return n reviews for that business/user combo in that city.\n",
    "    Returns a dictionary of the form:\n",
    "        {\n",
    "            text:str,\n",
    "            stars:str,\n",
    "            ...\n",
    "        }\n",
    "    \"\"\"\n",
    "    def should_keep(review):\n",
    "        if business_id and review[\"business_id\"] != business_id:\n",
    "            return False\n",
    "        if user_id and review[\"user_id\"] != user_id:\n",
    "            return False\n",
    "        return True\n",
    "\n",
    "    reviews = REVIEWS[city]\n",
    "    reviews = [review for review in reviews if should_keep(review)]\n",
    "    return random.sample(reviews, min(n, len(reviews)))\n",
    "\n",
    "\n",
    "def get_user(username):\n",
    "    \"\"\"\n",
    "    Get a user by its username\n",
    "    Returns a dictionary of the form:\n",
    "        {\n",
    "            user_id:str,\n",
    "            name:str,\n",
    "            ...\n",
    "        }\n",
    "    \"\"\"\n",
    "    for city, users in USERS.items():\n",
    "        for user in users:\n",
    "            if user[\"name\"] == username:\n",
    "                return user\n",
    "    raise IndexError(f\"invalid username {username}\")\n",
    "\n",
    "\n",
    "CITIES = load_cities()\n",
    "USERS = load(CITIES, \"user\")\n",
    "BUSINESSES = load(CITIES, \"business\")\n",
    "REVIEWS = load(CITIES, \"review\")\n",
    "TIPS = load(CITIES, \"tip\")\n",
    "CHECKINS = load(CITIES, \"checkin\")\n"
   ]
  },
  {
   "cell_type": "code",
   "execution_count": 3,
   "metadata": {},
   "outputs": [
    {
     "data": {
      "text/plain": [
       "' Schoonmaken BUSINESSES'"
      ]
     },
     "execution_count": 3,
     "metadata": {},
     "output_type": "execute_result"
    }
   ],
   "source": [
    "''' Schoonmaken BUSINESSES'''\n",
    "#business = citymerge(BUSINESSES)\n",
    "#business = business[business['is_open'] == 1 & business['categories'].notna()]\n",
    "#business['categories'] = business['categories'].str.split(', ')\n",
    "#print(business.latitude.mean(), business.longitude.mean())"
   ]
  },
  {
   "cell_type": "code",
   "execution_count": 4,
   "metadata": {},
   "outputs": [],
   "source": [
    "# Functie om data van alle steden samen te voegen in 1 DataFrame\n",
    "def citymerge(var):\n",
    "    return pd.concat([pd.DataFrame(var[city]) for city in var]).reset_index()"
   ]
  },
  {
   "cell_type": "code",
   "execution_count": 5,
   "metadata": {
    "scrolled": true
   },
   "outputs": [],
   "source": [
    "# Creeer Utility Matrix en Mean Utility Matrix uit een variabele van data.py (REVIEWS, USERS, BUSINESSES, etc.)\n",
    "def create_utility_matrix(var):\n",
    "    df = citymerge(var)\n",
    "\n",
    "    utility_matrix  = pd.pivot_table(df, index='business_id', columns='user_id', values='stars')\n",
    "\n",
    "    mean_ultility_matrix = utility_matrix - utility_matrix.mean()\n",
    "    \n",
    "    return utility_matrix, mean_ultility_matrix\n",
    "    \n",
    "utility_matrix, mean_utility_matrix = create_utility_matrix(REVIEWS)"
   ]
  },
  {
   "cell_type": "code",
   "execution_count": 6,
   "metadata": {},
   "outputs": [],
   "source": [
    "# Creeer Similarity Matrix uit Mean Utility Matrix\n",
    "def similarity(mum):\n",
    "    return pd.DataFrame(cosine_similarity(mum.fillna(0)), index=mum.index, columns=mum.index).replace(0, np.nan)\n",
    "\n",
    "similarity_matrix = similarity(mean_utility_matrix)"
   ]
  },
  {
   "cell_type": "code",
   "execution_count": 7,
   "metadata": {},
   "outputs": [
    {
     "name": "stdout",
     "output_type": "stream",
     "text": [
      "Wall time: 16.5 ms\n"
     ]
    },
    {
     "data": {
      "text/plain": [
       "business_id\n",
       "ZTg8adZipR3QDoJmFZZqJw    1.000000\n",
       "oZH3Ee7Yjk7u8B4Ed0oVOg    0.052780\n",
       "eigkQ_PuRON8Se265NqQDQ    0.050649\n",
       "r0DureDzsHpzs_VZem5k7g    0.046030\n",
       "0VJ8tBxOpD2OxuioVjaAxA    0.038859\n",
       "5MWWP4Kpmw0e8d2ib9G7Kg    0.031414\n",
       "EpJhRvkGDFE-GDPHM32klw    0.019380\n",
       "PzuyoHj3-VrYK7N8ZestNA    0.015228\n",
       "spjaRNFn9Lmh4petKBuf5g    0.011917\n",
       "6tK-R3BQ-GiMxsCGtxpJyw    0.001078\n",
       "irwDkp2eMP2x-4MfunRt8g    0.000097\n",
       "Name: ZTg8adZipR3QDoJmFZZqJw, dtype: float64"
      ]
     },
     "metadata": {},
     "output_type": "display_data"
    }
   ],
   "source": [
    "def select_neighborhood(similarity_matrix, utility_matrix, target_user, target_business):\n",
    "    \"\"\"selects all items with similarity > 0\"\"\"\n",
    "    # Controleer of target_user en target_business wel in de matrix zijn te vinden.\n",
    "    if (target_business in similarity_matrix.index) and (target_user in utility_matrix.columns):\n",
    "\n",
    "        # Maak een boolean mask van bedrijven die de gebruiker beoordeeld heeft met een similarity hoger dan 0.\n",
    "        SelectedBusinesses = (similarity_matrix[target_business].index.isin(utility_matrix[target_user].dropna().index)) & (similarity_matrix[target_business] > 0)\n",
    "    \n",
    "        # return de bedrijven met de similarity door gebruik te maken van de eerder gecreeerde boolean mask.\n",
    "        return similarity_matrix[target_business][SelectedBusinesses].sort_values(ascending = False)\n",
    "    \n",
    "    # Bij waarden die niet gevonden kunnen worden geef None terug.\n",
    "    else:\n",
    "        return pd.Series()\n",
    "\n",
    "%time neighborhood = select_neighborhood(similarity_matrix, utility_matrix, 'e3fdrK1tMCwWLr76LFe-cA', 'ZTg8adZipR3QDoJmFZZqJw')\n",
    "display(neighborhood)"
   ]
  },
  {
   "cell_type": "code",
   "execution_count": 8,
   "metadata": {},
   "outputs": [
    {
     "ename": "NameError",
     "evalue": "name 'prediction' is not defined",
     "output_type": "error",
     "traceback": [
      "\u001b[1;31m---------------------------------------------------------------------------\u001b[0m",
      "\u001b[1;31mNameError\u001b[0m                                 Traceback (most recent call last)",
      "\u001b[1;32m<ipython-input-8-573db26a4db3>\u001b[0m in \u001b[0;36m<module>\u001b[1;34m\u001b[0m\n\u001b[0;32m     18\u001b[0m \u001b[1;33m\u001b[0m\u001b[0m\n\u001b[0;32m     19\u001b[0m \u001b[0mprediction1\u001b[0m \u001b[1;33m=\u001b[0m \u001b[0mweighted_mean\u001b[0m\u001b[1;33m(\u001b[0m\u001b[0mneighborhood\u001b[0m\u001b[1;33m,\u001b[0m \u001b[0mutility_matrix\u001b[0m\u001b[1;33m,\u001b[0m \u001b[1;34m'e3fdrK1tMCwWLr76LFe-cA'\u001b[0m\u001b[1;33m)\u001b[0m\u001b[1;33m\u001b[0m\u001b[1;33m\u001b[0m\u001b[0m\n\u001b[1;32m---> 20\u001b[1;33m \u001b[0mprint\u001b[0m \u001b[1;33m(\u001b[0m\u001b[0mprediction\u001b[0m\u001b[1;33m)\u001b[0m\u001b[1;33m\u001b[0m\u001b[1;33m\u001b[0m\u001b[0m\n\u001b[0m",
      "\u001b[1;31mNameError\u001b[0m: name 'prediction' is not defined"
     ]
    }
   ],
   "source": [
    "def weighted_mean(neighborhood, utility_matrix, user_id):\n",
    "    # Controleer of neighborhood wel een Series is en utility_matrix wel een DataFrame, anders return 0.\n",
    "    if isinstance(neighborhood, pd.Series) and isinstance(utility_matrix, pd.DataFrame):\n",
    "        # Als neighborhood of de utility_matrix leeg zijn return dan 0.\n",
    "        if (neighborhood.empty) or (utility_matrix.empty):\n",
    "            return 0\n",
    "        \n",
    "        # Controleer of user_id als kolom te vinden is, anders return 0.\n",
    "        elif user_id in utility_matrix.columns:\n",
    "    \n",
    "            # Gebruik de bovenstaande formule om het gewogen gemiddelde voor de neighborhood te berekenen.\n",
    "            return ((utility_matrix[user_id] * neighborhood).dropna().sum()) / (neighborhood.sum())\n",
    "\n",
    "        else:\n",
    "            return 0\n",
    "    else:\n",
    "        return 0\n",
    "    \n",
    "prediction1 = weighted_mean(neighborhood, utility_matrix, 'e3fdrK1tMCwWLr76LFe-cA')\n",
    "print (prediction)"
   ]
  },
  {
   "cell_type": "code",
   "execution_count": null,
   "metadata": {},
   "outputs": [],
   "source": [
    "# Voorspel een score voor bedrijven en return deze als dict\n",
    "def predictions(utility_matrix, similarity_matrix, user_id):\n",
    "    predictdict = defaultdict()\n",
    "    for business_id in similarity_matrix.index:\n",
    "        predictdict[business_id] = weighted_mean(select_neighborhood(similarity_matrix, utility_matrix, user_id, business_id), utility_matrix, user_id)\n",
    "    \n",
    "    return predictdict"
   ]
  },
  {
   "cell_type": "code",
   "execution_count": null,
   "metadata": {
    "scrolled": true
   },
   "outputs": [],
   "source": [
    "%time userpredict = predictions(utility_matrix, similarity_matrix, 'e3fdrK1tMCwWLr76LFe-cA')"
   ]
  },
  {
   "cell_type": "code",
   "execution_count": null,
   "metadata": {},
   "outputs": [],
   "source": [
    "userpredict"
   ]
  }
 ],
 "metadata": {
  "kernelspec": {
   "display_name": "Python 3",
   "language": "python",
   "name": "python3"
  },
  "language_info": {
   "codemirror_mode": {
    "name": "ipython",
    "version": 3
   },
   "file_extension": ".py",
   "mimetype": "text/x-python",
   "name": "python",
   "nbconvert_exporter": "python",
   "pygments_lexer": "ipython3",
   "version": "3.7.3"
  }
 },
 "nbformat": 4,
 "nbformat_minor": 2
}
